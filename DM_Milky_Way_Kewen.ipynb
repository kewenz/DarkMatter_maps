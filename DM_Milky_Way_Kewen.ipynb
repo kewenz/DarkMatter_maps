{
 "cells": [
  {
   "cell_type": "code",
   "execution_count": 18,
   "metadata": {},
   "outputs": [],
   "source": [
    "import matplotlib.pyplot as plt\n",
    "import numpy as np\n",
    "import scipy.integrate as integrate\n",
    "import scipy.special as special\n",
    "from scipy.integrate import quad"
   ]
  },
  {
   "cell_type": "code",
   "execution_count": 10,
   "metadata": {},
   "outputs": [
    {
     "name": "stderr",
     "output_type": "stream",
     "text": [
      "/Users/zkw/opt/anaconda3/lib/python3.7/site-packages/ipykernel_launcher.py:13: RuntimeWarning: divide by zero encountered in log\n",
      "  del sys.path[0]\n",
      "/Users/zkw/opt/anaconda3/lib/python3.7/site-packages/ipykernel_launcher.py:9: RuntimeWarning: divide by zero encountered in true_divide\n",
      "  if __name__ == '__main__':\n"
     ]
    },
    {
     "data": {
      "text/plain": [
       "Text(0, 0.5, 'log(rho_h)')"
      ]
     },
     "execution_count": 10,
     "metadata": {},
     "output_type": "execute_result"
    },
    {
     "data": {
      "image/png": "[encoded data removed]",
      "text/plain": [
       "<Figure size 432x288 with 1 Axes>"
      ]
     },
     "metadata": {
      "needs_background": "light"
     },
     "output_type": "display_data"
    }
   ],
   "source": [
    "#NFW profile\n",
    "\n",
    "r_s=1\n",
    "rho_s=1\n",
    "r=np.linspace(0,1,1000)\n",
    "x=r/r_s\n",
    "\n",
    "def rho_h(x):\n",
    "    rho_h=rho_s/(x*(1+x)**2)\n",
    "    rho_h1=np.log(rho_h)\n",
    "    return rho_h1\n",
    "\n",
    "x1=np.log(x)\n",
    "\n",
    "plt.plot(x1,rho_h(x))\n",
    "plt.xlabel('log(x)')\n",
    "plt.ylabel('log(rho_h)')"
   ]
  },
  {
   "cell_type": "markdown",
   "metadata": {},
   "source": [
    "I am wondering is this the dark matter halo density profile that I am going to study?\n",
    "But I don't understand how this profile linked to the dark matter decay mode.\n",
    "And in the paper of Klypin, I saw the constrain he made, but I don't know how thoes constrains applied to the density model. If I want to solve the velocity profile, should I just solve the conservation of angular momentum plus the virial theroem?\n",
    "\n",
    "As for the dark matter column density. Is it the integral of the mass desity along the radial direction? I don't know how it is related to the longitude and latitude."
   ]
  },
  {
   "cell_type": "code",
   "execution_count": null,
   "metadata": {},
   "outputs": [],
   "source": []
  },
  {
   "cell_type": "code",
   "execution_count": 49,
   "metadata": {},
   "outputs": [
    {
     "name": "stderr",
     "output_type": "stream",
     "text": [
      "/Users/zkw/opt/anaconda3/lib/python3.7/site-packages/ipykernel_launcher.py:9: RuntimeWarning: divide by zero encountered in true_divide\n",
      "  if __name__ == '__main__':\n",
      "/Users/zkw/opt/anaconda3/lib/python3.7/site-packages/ipykernel_launcher.py:16: RuntimeWarning: divide by zero encountered in double_scalars\n",
      "  app.launch_new_instance()\n",
      "/Users/zkw/opt/anaconda3/lib/python3.7/site-packages/ipykernel_launcher.py:26: IntegrationWarning: Extremely bad integrand behavior occurs at some points of the\n",
      "  integration interval.\n",
      "/Users/zkw/opt/anaconda3/lib/python3.7/site-packages/ipykernel_launcher.py:26: IntegrationWarning: The maximum number of subdivisions (50) has been achieved.\n",
      "  If increasing the limit yields no improvement it is advised to analyze \n",
      "  the integrand in order to determine the difficulties.  If the position of a \n",
      "  local difficulty can be determined (singularity, discontinuity) one will \n",
      "  probably gain from splitting up the interval and calling the integrator \n",
      "  on the subranges.  Perhaps a special-purpose integrator should be used.\n"
     ]
    },
    {
     "data": {
      "text/plain": [
       "Text(0, 0.5, 'M_DM [M_sun]')"
      ]
     },
     "execution_count": 49,
     "metadata": {},
     "output_type": "execute_result"
    },
    {
     "data": {
      "image/png": "[encoded data removed]",
      "text/plain": [
       "<Figure size 432x288 with 1 Axes>"
      ]
     },
     "metadata": {
      "needs_background": "light"
     },
     "output_type": "display_data"
    }
   ],
   "source": [
    "M_200=0.82*10**12 #M_sun\n",
    "R_200=207 #kpc\n",
    "R_s=14.4  #kpc\n",
    "r=np.linspace(0,R_200,100)\n",
    "\n",
    "\n",
    "# NFW profile without correction\n",
    "def rho(c,x):\n",
    "    rho_r=M_200/(4*np.pi*R_200**3)*c**3*R_s**2/(np.log(1+c)-c/(1+c))/(x*(x+R_200/c)**2)\n",
    "    return rho_r\n",
    "\n",
    "\n",
    "c1=9\n",
    "rho_r=rho(c1,r)\n",
    "\n",
    "# DMO mass within radius r\n",
    "def integrand(x,a,b):\n",
    "    return a/(x*(x+b)**2)\n",
    "\n",
    "a=M_200/(4*np.pi*R_200**3)*c1**3*R_s**2/(np.log(1+c1)-c1/(1+c1))\n",
    "b=R_200/c1\n",
    "\n",
    "M_DM=np.array([])\n",
    "\n",
    "#DM mass within radius r with correction\n",
    "for r1 in range (0,R_200):\n",
    "\n",
    "    M_DMO=quad(integrand,0,r1,args=(a,b))\n",
    "\n",
    "    chi_tot=M_DMO[0]/M_200\n",
    "    ita_DM=1.023*chi_tot**(-0.54)\n",
    "\n",
    "    M_DM1=M_DMO[0]*(0.45+0.38*(ita_DM+1.16)**0.53)\n",
    "    M_DM=np.append(M_DM,M_DM1)\n",
    "\n",
    "r2=np.linspace(0,R_200,207)\n",
    "plt.loglog(r2,M_DM)\n",
    "plt.xlabel('r [kpc]')\n",
    "plt.ylabel('M_DM [M_sun]')\n"
   ]
  },
  {
   "cell_type": "markdown",
   "metadata": {},
   "source": [
    "I am not sure if I understand it correctly. \n",
    "The article mainly made a correction to the NFW profile, using the fraction of baryons in the universe took the baryonic matter into consideration while fitting the DM profile, and the NFW profile can be written as only one parameter dependence, but I am not sure about the physical meaning of the concentration.\n",
    "\n",
    "And as for uncertainty, they analysed  it using the Bayesian theorem and showed that there are systematic biases regarding different models?\n"
   ]
  }
 ],
 "metadata": {
  "kernelspec": {
   "display_name": "Python 3",
   "language": "python",
   "name": "python3"
  },
  "language_info": {
   "codemirror_mode": {
    "name": "ipython",
    "version": 3
   },
   "file_extension": ".py",
   "mimetype": "text/x-python",
   "name": "python",
   "nbconvert_exporter": "python",
   "pygments_lexer": "ipython3",
   "version": "3.7.6"
  }
 },
 "nbformat": 4,
 "nbformat_minor": 4
}
