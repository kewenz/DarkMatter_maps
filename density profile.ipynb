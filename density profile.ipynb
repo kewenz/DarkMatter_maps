{
 "cells": [
  {
   "cell_type": "code",
   "execution_count": 3,
   "metadata": {},
   "outputs": [],
   "source": [
    "import matplotlib.pyplot as plt\n",
    "import numpy as np"
   ]
  },
  {
   "cell_type": "code",
   "execution_count": 9,
   "metadata": {},
   "outputs": [
    {
     "name": "stderr",
     "output_type": "stream",
     "text": [
      "/Users/zkw/opt/anaconda3/lib/python3.7/site-packages/ipykernel_launcher.py:11: RuntimeWarning: divide by zero encountered in log\n",
      "  # This is added back by InteractiveShellApp.init_path()\n",
      "/Users/zkw/opt/anaconda3/lib/python3.7/site-packages/ipykernel_launcher.py:7: RuntimeWarning: divide by zero encountered in true_divide\n",
      "  import sys\n"
     ]
    },
    {
     "data": {
      "text/plain": [
       "Text(0, 0.5, 'log(rho_h)')"
      ]
     },
     "execution_count": 9,
     "metadata": {},
     "output_type": "execute_result"
    },
    {
     "data": {
      "image/png": "[encoded data removed]",
      "text/plain": [
       "<Figure size 432x288 with 1 Axes>"
      ]
     },
     "metadata": {
      "needs_background": "light"
     },
     "output_type": "display_data"
    }
   ],
   "source": [
    "#NFW profile\n",
    "\n",
    "r_s=1\n",
    "rho_s=1\n",
    "r=np.linspace(0,1,1000)\n",
    "x=r/r_s\n",
    "\n",
    "def rho_h(x):\n",
    "    rho_h=rho_s/(x*(1+x)**2)\n",
    "    rho_h1=log(rho_h)\n",
    "    return rho_h1\n",
    "\n",
    "x1=log(x)\n",
    "\n",
    "plt.plot(x1,rho_h(x))\n",
    "plt.xlabel('log(x)')\n",
    "plt.ylabel('log(rho_h)')"
   ]
  },
  {
   "cell_type": "markdown",
   "metadata": {},
   "source": [
    "I am wondering is this the dark matter halo density profile that I am going to study?\n",
    "But I don't understand how this profile linked to the dark matter decay mode.\n",
    "And in the paper of Klypin, I saw the constrain he made, but I don't know how thoes constrains applied to the density model. If I want to solve the velocity profile, should I just solve the conservation of angular momentum plus the virial theroem?\n",
    "\n",
    "As for the dark matter column density. Is it the integral of the mass desity along the radial direction? I don't know how it is related to the longitude and latitude."
   ]
  }
 ],
 "metadata": {
  "kernelspec": {
   "display_name": "Python 3",
   "language": "python",
   "name": "python3"
  },
  "language_info": {
   "codemirror_mode": {
    "name": "ipython",
    "version": 3
   },
   "file_extension": ".py",
   "mimetype": "text/x-python",
   "name": "python",
   "nbconvert_exporter": "python",
   "pygments_lexer": "ipython3",
   "version": "3.7.6"
  }
 },
 "nbformat": 4,
 "nbformat_minor": 4
}
