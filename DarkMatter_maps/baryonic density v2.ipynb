{
 "cells": [
  {
   "cell_type": "code",
   "execution_count": 2,
   "metadata": {},
   "outputs": [],
   "source": [
    "import numpy as np  \n",
    "from scipy.integrate import tplquad,dblquad,quad\n",
    "from scipy import integrate\n",
    "import matplotlib.pyplot as plt\n"
   ]
  },
  {
   "cell_type": "code",
   "execution_count": 3,
   "metadata": {},
   "outputs": [],
   "source": [
    "#baryonic density\n",
    "\n",
    "rho0b=100 #M_sun/pc^3\n",
    "r0=75 #pc\n",
    "r_cut=2.1e3 #pc\n",
    "q=0.5\n",
    "\n",
    "def rho_b(x,y):\n",
    "    return rho0b*np.exp(-(np.sqrt(x**2+(y/q)**2)/r_cut)**2)/(1+np.sqrt(x**2+(y/q)**2)/r0)**1.8\n",
    "\n",
    "def rho_b1(x,y):\n",
    "    return rho_b(x,y)*2*np.pi*x #柱坐标积分*2π，之后的就直接乘到density里面了\n",
    "\n",
    "Sigma0thin=731\n",
    "z_dthin=300\n",
    "r_dthin=2.5e3\n",
    "def rho_dthin(x,y):\n",
    "    return Sigma0thin*np.exp(-(np.abs(y)/z_dthin-x/r_dthin))/2/z_dthin*2*np.pi*x\n",
    "\n",
    "\n",
    "Sigma0thik=101\n",
    "z_dthik=900\n",
    "r_dthik=3.5e3\n",
    "def rho_dthik(x,y):\n",
    "    return 2*np.pi*x*Sigma0thik*np.exp(-(np.abs(y)/z_dthik-x/r_dthik))/2/z_dthik\n",
    "\n",
    "Sigma0h1=53\n",
    "z_dh1=85\n",
    "r_mh1=4e3\n",
    "r_dh1=7e3\n",
    "def rho_dh1(x,y):\n",
    "    return 2*np.pi*x*Sigma0h1*np.exp(-(r_mh1/x-x/r_dh1))/z_dh1/(np.exp(y/2/z_dh1)+np.exp(-y/2/z_dh1))**2\n",
    "\n",
    "Sigma0h2=2200\n",
    "z_dh2=45\n",
    "r_mh2=12e3\n",
    "r_dh2=1.5e3\n",
    "def rho_dh2(x,y):\n",
    "    return 2*np.pi*x*Sigma0h2*np.exp(-(r_mh2/x-x/r_dh2))/z_dh2/(np.exp(y/2/z_dh2)+np.exp(-y/2/z_dh2))**2\n",
    "\n",
    "\n",
    "\n",
    "rho_cri=1.06e-26\n",
    "f_bar=0.3\n",
    "R_200=218e3\n",
    "def rho_cgm(x):\n",
    "    return 2*np.pi*x*200*rho_cri*0.19*f_bar*(x/R_200)**(-1.46)\n",
    "M_cgm=np.array([])\n",
    "for i in range (1,21800):\n",
    "    M_cgm0,errb=quad(rho_cgm,0,i)\n",
    "    M_cgm=np.append(M_cgm,M_cgm0)"
   ]
  },
  {
   "cell_type": "code",
   "execution_count": 4,
   "metadata": {},
   "outputs": [],
   "source": [
    "#baryonic mass\n",
    "\n",
    "M_b=np.array([])\n",
    "for i in range(1,2100):\n",
    "    M_b0,errb=dblquad(rho_b1,0,i,lambda x:0,10)\n",
    "    M_b=np.append(M_b,M_b0)\n",
    "    \n",
    "\n",
    "    \n",
    "    \n"
   ]
  },
  {
   "cell_type": "code",
   "execution_count": 5,
   "metadata": {},
   "outputs": [],
   "source": [
    "M_dthin=np.array([])\n",
    "for i in range(1,2500):\n",
    "    M_dthin0,errb=dblquad(rho_dthin,0,i,lambda x:0,300)\n",
    "    M_dthin=np.append(M_dthin,M_dthin0)\n",
    "    \n",
    "\n",
    "    \n",
    "M_dthik=np.array([])\n",
    "for i in range(1,3500):\n",
    "    M_dthik0,errb=dblquad(rho_dthik,0,i,lambda x:0,900)\n",
    "    M_dthik=np.append(M_dthik,M_dthik0)\n",
    "    \n",
    "    \n",
    "    \n",
    "    \n",
    "M_dh1=np.array([])\n",
    "for i in range(1,7000):\n",
    "    M_dh10,errb=dblquad(rho_dh1,0,i,lambda x:0,85)\n",
    "    M_dh1=np.append(M_dh1,M_dh10)\n",
    "    \n",
    "    \n",
    "    \n",
    "    \n",
    "M_dh2=np.array([])\n",
    "for i in range(1,1500):\n",
    "    M_dh20,errb=dblquad(rho_dh2,0,i,lambda x:0,45)\n",
    "    M_dh2=np.append(M_dh2,M_dh20)\n",
    "    \n",
    "\n",
    "    \n",
    "\n",
    "    \n",
    "    \n"
   ]
  },
  {
   "cell_type": "code",
   "execution_count": 6,
   "metadata": {},
   "outputs": [],
   "source": [
    "#r1=np.linspace(0.1,2100,2099)\n",
    "#plt.loglog(r1,M_b)\n"
   ]
  },
  {
   "cell_type": "code",
   "execution_count": 7,
   "metadata": {},
   "outputs": [],
   "source": [
    "#r2=np.linspace(0.1,2500,2499)\n",
    "#plt.loglog(r2,M_dthin)\n"
   ]
  },
  {
   "cell_type": "code",
   "execution_count": 8,
   "metadata": {},
   "outputs": [],
   "source": [
    "#r3=np.linspace(0.1,3500,3499)\n",
    "#plt.loglog(r3,M_dthik)\n"
   ]
  },
  {
   "cell_type": "code",
   "execution_count": 9,
   "metadata": {},
   "outputs": [],
   "source": [
    "#r4=np.linspace(0.1,7000,6999)\n",
    "#plt.loglog(r4,M_dh1)\n"
   ]
  },
  {
   "cell_type": "code",
   "execution_count": 10,
   "metadata": {},
   "outputs": [],
   "source": [
    "#r5=np.linspace(0.1,1500,1499)\n",
    "#plt.loglog(r5,M_dh2)\n"
   ]
  },
  {
   "cell_type": "code",
   "execution_count": 15,
   "metadata": {},
   "outputs": [],
   "source": [
    "r6=np.linspace(0.1,21800,21799)\n",
    "#plt.loglog(r6,M_cgm)"
   ]
  },
  {
   "cell_type": "code",
   "execution_count": 12,
   "metadata": {},
   "outputs": [],
   "source": [
    "Mb=np.append(M_b,np.zeros(19700))\n",
    "Mdthin=np.append(M_dthin,np.zeros(19300))\n",
    "Mdthik=np.append(M_dthik,np.zeros(18300))\n",
    "Mdh1=np.append(M_dh1,np.zeros(14800))\n",
    "Mdh2=np.append(M_dh2,np.zeros(20300))"
   ]
  },
  {
   "cell_type": "code",
   "execution_count": 16,
   "metadata": {},
   "outputs": [],
   "source": [
    "#total baryonic mass\n",
    "M_btot=(Mb+Mdthin+Mdthik+Mdh2+Mdh1+M_cgm)/1000\n"
   ]
  },
  {
   "cell_type": "code",
   "execution_count": 17,
   "metadata": {},
   "outputs": [
    {
     "data": {
      "text/plain": [
       "[<matplotlib.lines.Line2D at 0x7fe89ea5b390>]"
      ]
     },
     "execution_count": 17,
     "metadata": {},
     "output_type": "execute_result"
    },
    {
     "data": {
      "image/png": "[encoded data removed]",
      "text/plain": [
       "<Figure size 432x288 with 1 Axes>"
      ]
     },
     "metadata": {
      "needs_background": "light"
     },
     "output_type": "display_data"
    }
   ],
   "source": [
    "plt.loglog(r6,M_btot)"
   ]
  },
  {
   "cell_type": "code",
   "execution_count": null,
   "metadata": {},
   "outputs": [],
   "source": []
  },
  {
   "cell_type": "code",
   "execution_count": 18,
   "metadata": {},
   "outputs": [
    {
     "name": "stderr",
     "output_type": "stream",
     "text": [
      "/Users/zkw/opt/anaconda3/lib/python3.7/site-packages/ipykernel_launcher.py:20: RuntimeWarning: divide by zero encountered in true_divide\n",
      "/Users/zkw/opt/anaconda3/lib/python3.7/site-packages/ipykernel_launcher.py:52: RuntimeWarning: divide by zero encountered in double_scalars\n"
     ]
    },
    {
     "data": {
      "text/plain": [
       "[<matplotlib.lines.Line2D at 0x7fe89f44c690>]"
      ]
     },
     "execution_count": 18,
     "metadata": {},
     "output_type": "execute_result"
    },
    {
     "data": {
      "image/png": "[encoded data removed]",
      "text/plain": [
       "<Figure size 432x288 with 1 Axes>"
      ]
     },
     "metadata": {
      "needs_background": "light"
     },
     "output_type": "display_data"
    }
   ],
   "source": [
    "M_200=0.82e12 #M_sun\n",
    "R_200=207 #kpc\n",
    "\n",
    "r=np.linspace(0,R_200,100)\n",
    "Omega_m=0.307\n",
    "Omega_b=0.048\n",
    "f_b=Omega_b/Omega_m\n",
    "\n",
    "\n",
    "#contracted total mass profile\n",
    "M_tot0=1.08e12 #M_sun\n",
    "\n",
    "#def M_r(x):\n",
    " #   return M_tot0*4*np.pi*x**3/3/R_200**3\n",
    "\n",
    "c1=9\n",
    "R_s=R_200/c1\n",
    "# NFW profile without correction\n",
    "def rho(c,x):\n",
    "    rho_r=M_200/(4*np.pi*R_200**3)*c**3*R_s**2/(np.log(1+c)-c/(1+c))/(x*(x+R_200/c)**2)\n",
    "    return rho_r\n",
    "rho_r=rho(c1,r)\n",
    "\n",
    "\n",
    "# DMO mass within radius r\n",
    "def integrand(x,a,b):\n",
    "    return a*4*np.pi*x**2/(x*(x+b)**2)\n",
    "\n",
    "\n",
    "\n",
    "a=M_200/(4*np.pi*R_200**3)*c1**3*R_s**2/(np.log(1+c1)-c1/(1+c1))\n",
    "b=R_200/c1\n",
    "\n",
    "#def M_DMO(x):\n",
    "  #  return (a*((b+x)*math.log(x,10)-(b+x)*math.log(b+x,10)))/(b**2*(b+x))\n",
    "\n",
    "M_DM=np.array([])\n",
    "\n",
    "#DM mass within radius r with correction\n",
    "for r1 in range (1,R_200):\n",
    "\n",
    "    M_DMO=quad(integrand,0.01,r1,args=(a,b))\n",
    "    M_tot=M_DMO[0]/(1-f_b)\n",
    "    #print (M_DMO(r1))\n",
    "\n",
    "    ita_bar=M_btot[r1-1]/M_tot\n",
    "\n",
    "    M_DM1=M_DMO[0]*(0.45+0.38*(ita_bar+1.16)**0.53)\n",
    "    M_DM=np.append(M_DM,M_DM1)\n",
    "    \n",
    "def rho_cDM(x):\n",
    "    return M_DM[x]*4*np.pi/3/x**3\n",
    "rho_cDMr=np.array([])\n",
    "for r3 in range (1,R_200):\n",
    "    rho_cDMr1=rho_cDM(r3-1)\n",
    "    rho_cDMr=np.append(rho_cDMr,rho_cDMr1)\n",
    "\n",
    "r2=np.linspace(0.1,R_200,206)\n",
    "plt.loglog(r2,rho_cDMr*r2**2,'r')\n",
    "#plt.loglog(r2,rho(c1,r2)*r2**2,'b')\n",
    "#plt.loglog(r2,M_DM,'g')\n",
    "#plt.xlabel('r [kpc]')\n",
    "#plt.ylabel('M_DM [M_sun]')"
   ]
  },
  {
   "cell_type": "markdown",
   "metadata": {},
   "source": [
    "I have the shape of the contracted halo, but the scale seems not right"
   ]
  },
  {
   "cell_type": "code",
   "execution_count": 19,
   "metadata": {},
   "outputs": [
    {
     "data": {
      "text/plain": [
       "Text(0, 0.5, 'M_DM [M_sun]')"
      ]
     },
     "execution_count": 19,
     "metadata": {},
     "output_type": "execute_result"
    },
    {
     "data": {
      "image/png": "[encoded data removed]",
      "text/plain": [
       "<Figure size 432x288 with 1 Axes>"
      ]
     },
     "metadata": {
      "needs_background": "light"
     },
     "output_type": "display_data"
    }
   ],
   "source": [
    "\n",
    "plt.loglog(r2,rho(c1,r2)*r2**2,'b')\n",
    "plt.loglog(r2,M_DM,'g')\n",
    "plt.xlabel('r [kpc]')\n",
    "plt.ylabel('M_DM [M_sun]')"
   ]
  },
  {
   "cell_type": "code",
   "execution_count": null,
   "metadata": {},
   "outputs": [],
   "source": []
  }
 ],
 "metadata": {
  "kernelspec": {
   "display_name": "Python 3",
   "language": "python",
   "name": "python3"
  },
  "language_info": {
   "codemirror_mode": {
    "name": "ipython",
    "version": 3
   },
   "file_extension": ".py",
   "mimetype": "text/x-python",
   "name": "python",
   "nbconvert_exporter": "python",
   "pygments_lexer": "ipython3",
   "version": "3.7.6"
  }
 },
 "nbformat": 4,
 "nbformat_minor": 4
}
