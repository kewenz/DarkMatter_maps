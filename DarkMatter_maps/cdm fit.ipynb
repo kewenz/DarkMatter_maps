{
 "cells": [
  {
   "cell_type": "code",
   "execution_count": 2,
   "metadata": {},
   "outputs": [],
   "source": [
    "import numpy as np\n",
    "import pandas as pd\n",
    "import os\n",
    "import matplotlib.pyplot as plt\n",
    "from scipy.integrate import tplquad,dblquad,quad\n",
    "from scipy import integrate\n",
    "from scipy import optimize"
   ]
  },
  {
   "cell_type": "code",
   "execution_count": 3,
   "metadata": {},
   "outputs": [],
   "source": [
    "data = pd.read_csv(\"DM_profile_contracted.csv\",header=None) \n",
    "data.columns=[\"c1\",\"c2\"]\n",
    "x=data[\"c1\"]\n",
    "x=np.array(x)\n",
    "y=data[\"c2\"]\n",
    "y=np.array(y)\n",
    "x1=np.log10(x)       #polynominal fitting under log scale\n",
    "y1=np.log10(y)\n"
   ]
  },
  {
   "cell_type": "code",
   "execution_count": 6,
   "metadata": {},
   "outputs": [
    {
     "data": {
      "text/plain": [
       "Text(0, 0.5, 'log(r^2 ρ)')"
      ]
     },
     "execution_count": 6,
     "metadata": {},
     "output_type": "execute_result"
    },
    {
     "data": {
      "image/png": "[encoded data removed]",
      "text/plain": [
       "<Figure size 432x288 with 1 Axes>"
      ]
     },
     "metadata": {
      "needs_background": "light"
     },
     "output_type": "display_data"
    }
   ],
   "source": [
    "plt.plot(x1, y1, \"o\")\n",
    "\n",
    "def f1(x,a,b,c,d):\n",
    "    return a*x**3+b*x**2+c*x+d\n",
    "\n",
    "popt, pcov=optimize.curve_fit(f1, x1, y1)\n",
    "\n",
    "x2 = np.linspace(x1.min(),x1.max(),100)\n",
    "a1,b1,c1,d1=popt\n",
    "y2=a1*x2**3+b1*x2**2+c1*x2+d1\n",
    "plt.plot(x2, y2)\n",
    "plt.xlabel('log(r)')\n",
    "plt.ylabel('log(r^2 ρ)')"
   ]
  },
  {
   "cell_type": "code",
   "execution_count": 6,
   "metadata": {},
   "outputs": [],
   "source": [
    "D=8#kpc\n",
    "def rho_g0(r1,b,l):\n",
    "    def r(r1):\n",
    "        return np.sqrt(r1**2+2*r1*D*np.sin(b)*np.cos(l)+D**2)#coordinate transformation\n",
    "    return (10**(a1*r(r1)**3+b1*r(r1)**2+c1*r(r1)+d1))/r(r1)**2\n",
    "\n",
    "#to calculate the column density, I think the specific distant should be given\n",
    "\n"
   ]
  },
  {
   "cell_type": "code",
   "execution_count": 9,
   "metadata": {},
   "outputs": [],
   "source": [
    "#I tried to calculate the column density with respect to distance, \n",
    "#but it was very time consuming after coordinate transformation\n",
    "cd=np.array([])\n",
    "for i in range(1,10):\n",
    "    M0, err = integrate.tplquad(rho_g0, 0, i, 0, np.pi, 0, 2*np.pi)\n",
    "    cd0=M0/(4*np.pi*i**2)\n",
    "    cd=np.append(cd,cd0)"
   ]
  },
  {
   "cell_type": "code",
   "execution_count": 8,
   "metadata": {},
   "outputs": [
    {
     "name": "stderr",
     "output_type": "stream",
     "text": [
      "/Users/zkw/opt/anaconda3/lib/python3.7/site-packages/ipykernel_launcher.py:6: IntegrationWarning: The integral is probably divergent, or slowly convergent.\n",
      "  \n",
      "/Users/zkw/opt/anaconda3/lib/python3.7/site-packages/ipykernel_launcher.py:2: RuntimeWarning: overflow encountered in double_scalars\n",
      "  \n"
     ]
    }
   ],
   "source": [
    "#in the original frame\n",
    "\n",
    "def rho_g(r):\n",
    "    return (10**(a1*r**3+b1*r**2+c1*r+d1))/r**2\n",
    "\n",
    "cd=np.array([])\n",
    "for i in range (1,10000):\n",
    "    cd0,errb=quad(rho_g,0,i)\n",
    "    cd=np.append(cd,cd0)"
   ]
  },
  {
   "cell_type": "code",
   "execution_count": null,
   "metadata": {},
   "outputs": [],
   "source": []
  }
 ],
 "metadata": {
  "kernelspec": {
   "display_name": "Python 3",
   "language": "python",
   "name": "python3"
  },
  "language_info": {
   "codemirror_mode": {
    "name": "ipython",
    "version": 3
   },
   "file_extension": ".py",
   "mimetype": "text/x-python",
   "name": "python",
   "nbconvert_exporter": "python",
   "pygments_lexer": "ipython3",
   "version": "3.7.6"
  }
 },
 "nbformat": 4,
 "nbformat_minor": 4
}
